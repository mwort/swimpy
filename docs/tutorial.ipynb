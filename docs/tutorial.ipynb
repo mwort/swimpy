{
 "cells": [
  {
   "cell_type": "markdown",
   "metadata": {},
   "source": [
    "# The Blankenstein test project\n",
    "\n",
    "The Blankenstein test project is the default project of [SWIM](https://gitlab.pik-potsdam.de/swim/swim) designed for learning and testing. It is initialised using typical GIS data with the [m.swim](https://gitlab.pik-potsdam.de/wortmann/m.swim) module for [GRASS GIS](https://grass.osgeo.org). This tutorial shows how use _swimpy_ with the Blankenstein project as a test and learning example."
   ]
  },
  {
   "cell_type": "markdown",
   "metadata": {},
   "source": [
    "## Prerequisites and installation\n",
    "\n",
    "For this tutorial you need to have the following software installed:\n",
    "\n",
    "- Python (version 3.x is recommended) together with some basic knowledge\n",
    "    - A manager for virtual python environments is recommended such as [virtualenv](https://virtualenv.pypa.io/en/latest/) or [pyenv](https://github.com/pyenv/pyenv)\n",
    "    - A python IDE is recommended, such as the language-independent and free [VS Code](https://code.visualstudio.com)\n",
    "- The [SWIM](https://gitlab.pik-potsdam.de/swim/swim) model\n",
    "- [GRASS GIS](https://grass.osgeo.org)\n",
    "- GRASS module [m.swim](https://gitlab.pik-potsdam.de/wortmann/m.swim)\n",
    "\n",
    "For installation of _swimpy_ see the separate installation page."
   ]
  },
  {
   "cell_type": "markdown",
   "metadata": {},
   "source": [
    "## Project initialisation\n",
    "\n",
    "To initialise the Blankenstein project, open a command line (ideally within a python IDE), go to the SWIM directory and initialise the project, i.e. run SWIM to have some default input and output files to work with:\n",
    "\n",
    "```\n",
    "cd /path/to/swim/project\n",
    "make\n",
    "```\n",
    "\n",
    "Now we can start python, load the _swimpy_ module, and initialise the test project:"
   ]
  },
  {
   "cell_type": "code",
   "execution_count": 1,
   "metadata": {},
   "outputs": [],
   "source": [
    "# hidden cell to setup\n",
    "import swimpy, os\n",
    "%matplotlib inline\n",
    "\n",
    "project_path = os.path.join(os.path.dirname(swimpy.__file__), '../tests/project')\n",
    "os.chdir(project_path)\n",
    "if not os.path.exists('swimpy'):\n",
    "    p = swimpy.project.setup()"
   ]
  },
  {
   "cell_type": "code",
   "execution_count": 2,
   "metadata": {},
   "outputs": [],
   "source": [
    "import swimpy\n",
    "project = swimpy.Project(\"./blankenstein_parameters.nml\")"
   ]
  },
  {
   "cell_type": "markdown",
   "metadata": {},
   "source": [
    "The `swimpy.Project()` call initialises a project instance (here called `project`). As argument it takes either a path to a _swimpy_ project directory with a single `<parameter>.nml` file or the path to a specific `.nml` file. This file is a Fortran Namelist file and contains the configuration parameters of a SWIM project."
   ]
  },
  {
   "cell_type": "markdown",
   "metadata": {},
   "source": [
    "The `project` object represents our model setup and provides a large number of methods and project variables. For instance, one can derive the project, input, output directories, etc."
   ]
  },
  {
   "cell_type": "code",
   "execution_count": 3,
   "metadata": {},
   "outputs": [
    {
     "data": {
      "text/plain": [
       "'/home/tobias/apps/swimpy_redesign/tests/project/./swim'"
      ]
     },
     "execution_count": 3,
     "metadata": {},
     "output_type": "execute_result"
    }
   ],
   "source": [
    "project.resourcedir\n",
    "project.inputpath\n",
    "project.outputpath\n",
    "project.swim"
   ]
  },
  {
   "cell_type": "markdown",
   "metadata": {},
   "source": [
    "Other important project attributes are discussed along this tutorial."
   ]
  },
  {
   "cell_type": "markdown",
   "metadata": {},
   "source": [
    "## Configuration parameters\n",
    "\n",
    "The project's configuration parameters inside the Fortran Namelist file, in this case `blankenstein_parameters.nml`, can be easily accessed and changed:"
   ]
  },
  {
   "cell_type": "code",
   "execution_count": 4,
   "metadata": {},
   "outputs": [
    {
     "data": {
      "text/plain": [
       "<config_parameters: blankenstein_parameters.nml>\n",
       "f90nml.Namelist (\n",
       "catchment_parameters: Namelist (bsubcatch: True)\n",
       "landuse_parameters: Namelist ()\n",
       "crop_parameters: Namelist (iwb: 35)\n",
       "erosion_parameters: Namelist ()\n",
       "evapotranspiration_parameters: Namelist (iemeth: 2, radiation_switch: 1)\n",
       "groundwater_parameters: Namelist ()\n",
       "input_parameters: Namelist ()\n",
       "nutrient_parameters: Namelist ()\n",
       "output_parameters: Namelist ()\n",
       "river_parameters: Namelist (tlgw: 1)\n",
       "snow_parameters: Namelist ()\n",
       "soil_parameters: Namelist ()\n",
       "subbasin_parameters: Namelist (brunoffdat: True)\n",
       "time_parameters: Namelist (iyr: 1991)\n",
       "vegetation_parameters: Namelist (rzmaxup: 7.0, bdormancy: True)\n",
       "reservoir_parameters: Namelist (brsvmodule: True)\n",
       "management_parameters: Namelist (bwam_module: True)\n",
       ")"
      ]
     },
     "execution_count": 4,
     "metadata": {},
     "output_type": "execute_result"
    }
   ],
   "source": [
    "# show parameters\n",
    "project.config_parameters"
   ]
  },
  {
   "cell_type": "code",
   "execution_count": 5,
   "metadata": {},
   "outputs": [
    {
     "data": {
      "text/plain": [
       "<config_parameters: blankenstein_parameters.nml>\n",
       "f90nml.Namelist (\n",
       "catchment_parameters: Namelist (bsubcatch: True)\n",
       "landuse_parameters: Namelist ()\n",
       "crop_parameters: Namelist (iwb: 35)\n",
       "erosion_parameters: Namelist ()\n",
       "evapotranspiration_parameters: Namelist (iemeth: 2, radiation_switch: 1)\n",
       "groundwater_parameters: Namelist ()\n",
       "input_parameters: Namelist ()\n",
       "nutrient_parameters: Namelist ()\n",
       "output_parameters: Namelist ()\n",
       "river_parameters: Namelist (tlgw: 1)\n",
       "snow_parameters: Namelist ()\n",
       "soil_parameters: Namelist ()\n",
       "subbasin_parameters: Namelist (brunoffdat: True)\n",
       "time_parameters: Namelist (iyr: 2000)\n",
       "vegetation_parameters: Namelist (rzmaxup: 7.0, bdormancy: True)\n",
       "reservoir_parameters: Namelist (brsvmodule: True)\n",
       "management_parameters: Namelist (bwam_module: True)\n",
       ")"
      ]
     },
     "execution_count": 5,
     "metadata": {},
     "output_type": "execute_result"
    }
   ],
   "source": [
    "# change parameter\n",
    "project.config_parameters(iyr=1995)\n",
    "project.config_parameters"
   ]
  },
  {
   "cell_type": "markdown",
   "metadata": {},
   "source": [
    "Note how this automatically updates `blankenstein_parameters.nml`! You should also be aware that for parameters that do not appear in the list, default values are automatically used by SWIM."
   ]
  },
  {
   "cell_type": "markdown",
   "metadata": {},
   "source": [
    "You can also call the parameter groups individually:"
   ]
  },
  {
   "cell_type": "code",
   "execution_count": 6,
   "metadata": {},
   "outputs": [
    {
     "data": {
      "text/plain": [
       "ParamGroupNamelist([('iyr', 2000)])"
      ]
     },
     "execution_count": 6,
     "metadata": {},
     "output_type": "execute_result"
    }
   ],
   "source": [
    "project.time_parameters"
   ]
  },
  {
   "cell_type": "code",
   "execution_count": 7,
   "metadata": {},
   "outputs": [
    {
     "data": {
      "text/plain": [
       "ParamGroupNamelist([('iyr', 2000), ('nbyr', 5)])"
      ]
     },
     "execution_count": 7,
     "metadata": {},
     "output_type": "execute_result"
    }
   ],
   "source": [
    "# this also updates blankenstein_parameters.nml\n",
    "project.time_parameters(nbyr=2)\n",
    "project.time_parameters"
   ]
  },
  {
   "cell_type": "markdown",
   "metadata": {},
   "source": [
    "Note, however, that this will **not** update the parameter file:"
   ]
  },
  {
   "cell_type": "code",
   "execution_count": 8,
   "metadata": {},
   "outputs": [],
   "source": [
    "project.time_parameters['nbyr'] = 5"
   ]
  },
  {
   "cell_type": "markdown",
   "metadata": {},
   "source": [
    "But you can update the file explicitly with:"
   ]
  },
  {
   "cell_type": "code",
   "execution_count": 9,
   "metadata": {},
   "outputs": [],
   "source": [
    "project.config_parameters.write()\n",
    "# you can also write to a new file\n",
    "project.config_parameters.write('test.nml')"
   ]
  },
  {
   "cell_type": "markdown",
   "metadata": {},
   "source": [
    "You can also set either individual parameters or whole parameter groups back to default values or just show default values:"
   ]
  },
  {
   "cell_type": "code",
   "execution_count": 10,
   "metadata": {},
   "outputs": [
    {
     "data": {
      "text/plain": [
       "Namelist([('time_parameters', Namelist([('iyr', 2000), ('nbyr', 10)])),\n",
       "          ('subbasin_parameters',\n",
       "           Namelist([('climate_input_file', 'climate.csv'),\n",
       "                     ('brunoffdat', False),\n",
       "                     ('discharge_input_file', 'discharge.csv'),\n",
       "                     ('tp5_default', 15.0),\n",
       "                     ('tp6_default', 22.0),\n",
       "                     ('tpnyr_default', 54.0),\n",
       "                     ('obmx',\n",
       "                      [31.4400005,\n",
       "                       32.7099991,\n",
       "                       34.5099983,\n",
       "                       34.7299995,\n",
       "                       33.9300003,\n",
       "                       31.4599991,\n",
       "                       28.6599998,\n",
       "                       29.0699997,\n",
       "                       30.7600002,\n",
       "                       30.5599995,\n",
       "                       29.9799995,\n",
       "                       30.2700005]),\n",
       "                     ('obmn',\n",
       "                      [7.51000023,\n",
       "                       8.72000027,\n",
       "                       10.3400002,\n",
       "                       11.3199997,\n",
       "                       11.8199997,\n",
       "                       10.6599998,\n",
       "                       10.4300003,\n",
       "                       10.6400003,\n",
       "                       9.40999985,\n",
       "                       10.5200005,\n",
       "                       9.34000015,\n",
       "                       7.88999987]),\n",
       "                     ('wim',\n",
       "                      [7.0,\n",
       "                       7.0,\n",
       "                       9.0,\n",
       "                       9.0,\n",
       "                       10.0,\n",
       "                       10.0,\n",
       "                       10.0,\n",
       "                       10.0,\n",
       "                       9.0,\n",
       "                       9.0,\n",
       "                       7.0,\n",
       "                       7.0]),\n",
       "                     ('prw',\n",
       "                      [0.0299999993,\n",
       "                       0.589999974,\n",
       "                       0.0599999987,\n",
       "                       0.430000007,\n",
       "                       0.0900000036,\n",
       "                       0.479999989,\n",
       "                       0.140000001,\n",
       "                       0.569999993,\n",
       "                       0.209999993,\n",
       "                       0.560000002,\n",
       "                       0.319999993,\n",
       "                       0.5,\n",
       "                       0.389999986,\n",
       "                       0.409999996,\n",
       "                       0.430000007,\n",
       "                       0.50999999,\n",
       "                       0.310000002,\n",
       "                       0.419999987,\n",
       "                       0.119999997,\n",
       "                       0.49000001,\n",
       "                       0.0799999982,\n",
       "                       0.560000002,\n",
       "                       0.0500000007,\n",
       "                       0.629999995]),\n",
       "                     ('rst',\n",
       "                      [0.200000003,\n",
       "                       0.200000003,\n",
       "                       0.899999976,\n",
       "                       1.29999995,\n",
       "                       4.19999981,\n",
       "                       7.5999999,\n",
       "                       10.6999998,\n",
       "                       10.3000002,\n",
       "                       7.4000001,\n",
       "                       4.30000019,\n",
       "                       1.29999995,\n",
       "                       0.300000012])])),\n",
       "          ('catchment_parameters', Namelist([('bsubcatch', False)])),\n",
       "          ('evapotranspiration_parameters',\n",
       "           Namelist([('ec1', 0.135000005),\n",
       "                     ('ecal0', 1.0),\n",
       "                     ('thc0', 1.0),\n",
       "                     ('idvwk', 0),\n",
       "                     ('iemeth', 0),\n",
       "                     ('pit', 58.1300011),\n",
       "                     ('radiation_switch', 0)])),\n",
       "          ('soil_parameters',\n",
       "           Namelist([('ab', 0.0208299998),\n",
       "                     ('cnum1', 2.0),\n",
       "                     ('cnum3', 2.0),\n",
       "                     ('ekc0', 1.0),\n",
       "                     ('icn', 0),\n",
       "                     ('ml', 10),\n",
       "                     ('psp', 0.5),\n",
       "                     ('rtn', 0.150000006),\n",
       "                     ('sccor0', 1.0),\n",
       "                     ('stinco', 0.899999976),\n",
       "                     ('soil_input_dir', 'input/soils')])),\n",
       "          ('groundwater_parameters',\n",
       "           Namelist([('abf0', 0.5), ('gwq0', 0.200000003), ('bff0', 0.0)])),\n",
       "          ('reservoir_parameters', Namelist([('brsvmodule', False)])),\n",
       "          ('vegetation_parameters',\n",
       "           Namelist([('co2ref', 0.0),\n",
       "                     ('co2sce', 0.0),\n",
       "                     ('epco', 1.0),\n",
       "                     ('ialpha', 0),\n",
       "                     ('ibeta', 0),\n",
       "                     ('ic3c4', 0.0),\n",
       "                     ('rzmaxup', 0.0),\n",
       "                     ('ub', 3.06500006),\n",
       "                     ('bdormancy', False)])),\n",
       "          ('crop_parameters',\n",
       "           Namelist([('cnum2', 1.0),\n",
       "                     ('icc', 51),\n",
       "                     ('idlef', 0),\n",
       "                     ('ipo', 20),\n",
       "                     ('isba', 22),\n",
       "                     ('iwb', 36),\n",
       "                     ('iwr', 42),\n",
       "                     ('iww', 45),\n",
       "                     ('mfe', 7),\n",
       "                     ('mop', 7),\n",
       "                     ('nrotyrs', 3)])),\n",
       "          ('landuse_parameters',\n",
       "           Namelist([('landuse_input_file', 'landuse.csv'), ('iicep', 1)])),\n",
       "          ('snow_parameters',\n",
       "           Namelist([('tsnfall0', 0.0),\n",
       "                     ('smrate0', 1.0),\n",
       "                     ('gmrate0', 10.0),\n",
       "                     ('prcor', 1.0),\n",
       "                     ('snow1', 0.0),\n",
       "                     ('xgrad1', 0.0),\n",
       "                     ('tgrad1', 0.0),\n",
       "                     ('ulmax0', 1.0),\n",
       "                     ('rnew', 0.0799999982),\n",
       "                     ('tmelt0', 0.0),\n",
       "                     ('bsnowmodule', True)])),\n",
       "          ('nutrient_parameters',\n",
       "           Namelist([('degngrw', 0.300000012),\n",
       "                     ('degnsub', 0.300000012),\n",
       "                     ('degnsur', 0.0199999996),\n",
       "                     ('degpsur', 0.0199999996),\n",
       "                     ('retngrw', 15000.0),\n",
       "                     ('retnsub', 365.0),\n",
       "                     ('retnsur', 5.0),\n",
       "                     ('retpsur', 20.0)])),\n",
       "          ('management_parameters',\n",
       "           Namelist([('management_users_input_dir', 'input/water_users'),\n",
       "                     ('management_input_file', 'management.csv'),\n",
       "                     ('bwam_module', False)])),\n",
       "          ('river_parameters',\n",
       "           Namelist([('roc2_0', 9.0),\n",
       "                     ('roc4_0', 9.0),\n",
       "                     ('chnnc0', 1.0),\n",
       "                     ('chwc0', 1.0),\n",
       "                     ('prf', 1.0),\n",
       "                     ('roc1', 0.0),\n",
       "                     ('roc3', 0.0),\n",
       "                     ('spcon', 0.0),\n",
       "                     ('spexp', 1.0),\n",
       "                     ('storc1', 0.5),\n",
       "                     ('tlgw', 0),\n",
       "                     ('tlrch', 1.0),\n",
       "                     ('evrch', 1.0)])),\n",
       "          ('erosion_parameters', Namelist([('chcc0', 1.0), ('chxkc0', 1.0)])),\n",
       "          ('output_parameters',\n",
       "           Namelist([('nns', 30),\n",
       "                     ('nsb', 30),\n",
       "                     ('nvrch', 18),\n",
       "                     ('nvsub', 30),\n",
       "                     ('output_dir', 'output'),\n",
       "                     ('output_write_interval', 'M'),\n",
       "                     ('output_float_format', 'f12.4'),\n",
       "                     ('output_space_index_format', 'i6'),\n",
       "                     ('output_default_format', 'csv'),\n",
       "                     ('master_logfile', 'swim.log'),\n",
       "                     ('log_stderr_level', 'warning'),\n",
       "                     ('log_stdout_level', 'info'),\n",
       "                     ('log_file_level', 'info')])),\n",
       "          ('input_parameters', Namelist([('input_dir', 'input/')]))])"
      ]
     },
     "execution_count": 10,
     "metadata": {},
     "output_type": "execute_result"
    }
   ],
   "source": [
    "project.config_parameters.defaults"
   ]
  },
  {
   "cell_type": "code",
   "execution_count": 11,
   "metadata": {},
   "outputs": [
    {
     "data": {
      "text/plain": [
       "Namelist([('co2ref', 0.0),\n",
       "          ('co2sce', 0.0),\n",
       "          ('epco', 1.0),\n",
       "          ('ialpha', 0),\n",
       "          ('ibeta', 0),\n",
       "          ('ic3c4', 0.0),\n",
       "          ('rzmaxup', 0.0),\n",
       "          ('ub', 3.06500006),\n",
       "          ('bdormancy', False)])"
      ]
     },
     "execution_count": 11,
     "metadata": {},
     "output_type": "execute_result"
    }
   ],
   "source": [
    "project.vegetation_parameters.defaults"
   ]
  },
  {
   "cell_type": "code",
   "execution_count": 12,
   "metadata": {},
   "outputs": [
    {
     "data": {
      "text/plain": [
       "ParamGroupNamelist([('rzmaxup', 0.0), ('bdormancy', True)])"
      ]
     },
     "execution_count": 12,
     "metadata": {},
     "output_type": "execute_result"
    }
   ],
   "source": [
    "# this updates blankenstein_parameters.nml!\n",
    "project.vegetation_parameters.set_default('rzmaxup')\n",
    "project.vegetation_parameters"
   ]
  },
  {
   "cell_type": "markdown",
   "metadata": {},
   "source": [
    "For convenience you can get start and end dates of the simulation with: "
   ]
  },
  {
   "cell_type": "code",
   "execution_count": 13,
   "metadata": {},
   "outputs": [
    {
     "data": {
      "text/plain": [
       "datetime.date(2000, 1, 1)"
      ]
     },
     "execution_count": 13,
     "metadata": {},
     "output_type": "execute_result"
    }
   ],
   "source": [
    "project.config_parameters.start_date"
   ]
  },
  {
   "cell_type": "code",
   "execution_count": 14,
   "metadata": {},
   "outputs": [
    {
     "data": {
      "text/plain": [
       "datetime.date(2009, 12, 31)"
      ]
     },
     "execution_count": 14,
     "metadata": {},
     "output_type": "execute_result"
    }
   ],
   "source": [
    "project.config_parameters.end_date"
   ]
  },
  {
   "cell_type": "markdown",
   "metadata": {},
   "source": [
    "## Input files"
   ]
  },
  {
   "cell_type": "markdown",
   "metadata": {},
   "source": [
    "The contents of all input files are accessible as project attributes via `project.<filename>` (`<filename>` without file extension.), e.g.:"
   ]
  },
  {
   "cell_type": "code",
   "execution_count": 15,
   "metadata": {},
   "outputs": [
    {
     "data": {
      "text/html": [
       "<div>\n",
       "<style scoped>\n",
       "    .dataframe tbody tr th:only-of-type {\n",
       "        vertical-align: middle;\n",
       "    }\n",
       "\n",
       "    .dataframe tbody tr th {\n",
       "        vertical-align: top;\n",
       "    }\n",
       "\n",
       "    .dataframe thead th {\n",
       "        text-align: right;\n",
       "    }\n",
       "</style>\n",
       "<table border=\"1\" class=\"dataframe\">\n",
       "  <thead>\n",
       "    <tr style=\"text-align: right;\">\n",
       "      <th></th>\n",
       "      <th>catchment_id</th>\n",
       "      <th>ecal</th>\n",
       "      <th>thc</th>\n",
       "      <th>roc2</th>\n",
       "      <th>roc4</th>\n",
       "      <th>cncor</th>\n",
       "      <th>sccor</th>\n",
       "      <th>tsnfall</th>\n",
       "      <th>tmelt</th>\n",
       "      <th>smrate</th>\n",
       "      <th>gmrate</th>\n",
       "      <th>bff</th>\n",
       "      <th>abf</th>\n",
       "      <th>delay</th>\n",
       "      <th>revapc</th>\n",
       "      <th>rchrgc</th>\n",
       "      <th>revapmn</th>\n",
       "    </tr>\n",
       "    <tr>\n",
       "      <th>station_id</th>\n",
       "      <th></th>\n",
       "      <th></th>\n",
       "      <th></th>\n",
       "      <th></th>\n",
       "      <th></th>\n",
       "      <th></th>\n",
       "      <th></th>\n",
       "      <th></th>\n",
       "      <th></th>\n",
       "      <th></th>\n",
       "      <th></th>\n",
       "      <th></th>\n",
       "      <th></th>\n",
       "      <th></th>\n",
       "      <th></th>\n",
       "      <th></th>\n",
       "      <th></th>\n",
       "    </tr>\n",
       "  </thead>\n",
       "  <tbody>\n",
       "    <tr>\n",
       "      <th>BLANKENSTEIN</th>\n",
       "      <td>1</td>\n",
       "      <td>1.0</td>\n",
       "      <td>1.0</td>\n",
       "      <td>2.0</td>\n",
       "      <td>4.0</td>\n",
       "      <td>1.0</td>\n",
       "      <td>1.0</td>\n",
       "      <td>0.0</td>\n",
       "      <td>0.0</td>\n",
       "      <td>0.4</td>\n",
       "      <td>10</td>\n",
       "      <td>1.0</td>\n",
       "      <td>0.01</td>\n",
       "      <td>50</td>\n",
       "      <td>0.0</td>\n",
       "      <td>0.0</td>\n",
       "      <td>0.0</td>\n",
       "    </tr>\n",
       "    <tr>\n",
       "      <th>HOF</th>\n",
       "      <td>2</td>\n",
       "      <td>1.0</td>\n",
       "      <td>1.0</td>\n",
       "      <td>2.0</td>\n",
       "      <td>4.0</td>\n",
       "      <td>1.0</td>\n",
       "      <td>1.0</td>\n",
       "      <td>0.0</td>\n",
       "      <td>0.0</td>\n",
       "      <td>0.4</td>\n",
       "      <td>10</td>\n",
       "      <td>1.0</td>\n",
       "      <td>0.01</td>\n",
       "      <td>50</td>\n",
       "      <td>0.0</td>\n",
       "      <td>0.0</td>\n",
       "      <td>0.0</td>\n",
       "    </tr>\n",
       "  </tbody>\n",
       "</table>\n",
       "</div>"
      ],
      "text/plain": [
       "<catchment: input/catchment.csv >\n",
       "              catchment_id  ecal  thc  roc2  roc4  cncor  sccor  tsnfall  \\\n",
       "station_id                                                                 \n",
       "BLANKENSTEIN             1   1.0  1.0   2.0   4.0    1.0    1.0      0.0   \n",
       "HOF                      2   1.0  1.0   2.0   4.0    1.0    1.0      0.0   \n",
       "\n",
       "              tmelt  smrate  gmrate  bff   abf  delay  revapc  rchrgc  revapmn  \n",
       "station_id                                                                      \n",
       "BLANKENSTEIN    0.0     0.4      10  1.0  0.01     50     0.0     0.0      0.0  \n",
       "HOF             0.0     0.4      10  1.0  0.01     50     0.0     0.0      0.0  "
      ]
     },
     "execution_count": 15,
     "metadata": {},
     "output_type": "execute_result"
    }
   ],
   "source": [
    "# contents of input/catchment.csv\n",
    "project.catchment"
   ]
  },
  {
   "cell_type": "markdown",
   "metadata": {},
   "source": [
    "The data is represented by a [pandas DataFrame](https://pandas.pydata.org/pandas-docs/stable/user_guide/dsintro.html#dataframe). After editing the input file is updated automatically. However, the `write()` method may also be called explicitly (e.g. to write to a different file). Editing works as follows:"
   ]
  },
  {
   "cell_type": "code",
   "execution_count": 16,
   "metadata": {},
   "outputs": [
    {
     "data": {
      "text/plain": [
       "1.0"
      ]
     },
     "execution_count": 16,
     "metadata": {},
     "output_type": "execute_result"
    }
   ],
   "source": [
    "# get value\n",
    "project.catchment.loc['HOF']['ecal']"
   ]
  },
  {
   "cell_type": "code",
   "execution_count": 17,
   "metadata": {},
   "outputs": [
    {
     "data": {
      "text/html": [
       "<div>\n",
       "<style scoped>\n",
       "    .dataframe tbody tr th:only-of-type {\n",
       "        vertical-align: middle;\n",
       "    }\n",
       "\n",
       "    .dataframe tbody tr th {\n",
       "        vertical-align: top;\n",
       "    }\n",
       "\n",
       "    .dataframe thead th {\n",
       "        text-align: right;\n",
       "    }\n",
       "</style>\n",
       "<table border=\"1\" class=\"dataframe\">\n",
       "  <thead>\n",
       "    <tr style=\"text-align: right;\">\n",
       "      <th></th>\n",
       "      <th>catchment_id</th>\n",
       "      <th>ecal</th>\n",
       "      <th>thc</th>\n",
       "      <th>roc2</th>\n",
       "      <th>roc4</th>\n",
       "      <th>cncor</th>\n",
       "      <th>sccor</th>\n",
       "      <th>tsnfall</th>\n",
       "      <th>tmelt</th>\n",
       "      <th>smrate</th>\n",
       "      <th>gmrate</th>\n",
       "      <th>bff</th>\n",
       "      <th>abf</th>\n",
       "      <th>delay</th>\n",
       "      <th>revapc</th>\n",
       "      <th>rchrgc</th>\n",
       "      <th>revapmn</th>\n",
       "    </tr>\n",
       "    <tr>\n",
       "      <th>station_id</th>\n",
       "      <th></th>\n",
       "      <th></th>\n",
       "      <th></th>\n",
       "      <th></th>\n",
       "      <th></th>\n",
       "      <th></th>\n",
       "      <th></th>\n",
       "      <th></th>\n",
       "      <th></th>\n",
       "      <th></th>\n",
       "      <th></th>\n",
       "      <th></th>\n",
       "      <th></th>\n",
       "      <th></th>\n",
       "      <th></th>\n",
       "      <th></th>\n",
       "      <th></th>\n",
       "    </tr>\n",
       "  </thead>\n",
       "  <tbody>\n",
       "    <tr>\n",
       "      <th>BLANKENSTEIN</th>\n",
       "      <td>1</td>\n",
       "      <td>1.0</td>\n",
       "      <td>1.1</td>\n",
       "      <td>1</td>\n",
       "      <td>2</td>\n",
       "      <td>1.0</td>\n",
       "      <td>1.0</td>\n",
       "      <td>0.0</td>\n",
       "      <td>0.0</td>\n",
       "      <td>0.3</td>\n",
       "      <td>10</td>\n",
       "      <td>1.0</td>\n",
       "      <td>0.01</td>\n",
       "      <td>50</td>\n",
       "      <td>0.0</td>\n",
       "      <td>0.0</td>\n",
       "      <td>0.0</td>\n",
       "    </tr>\n",
       "    <tr>\n",
       "      <th>HOF</th>\n",
       "      <td>2</td>\n",
       "      <td>1.2</td>\n",
       "      <td>1.2</td>\n",
       "      <td>1</td>\n",
       "      <td>2</td>\n",
       "      <td>1.0</td>\n",
       "      <td>1.0</td>\n",
       "      <td>0.0</td>\n",
       "      <td>0.0</td>\n",
       "      <td>0.5</td>\n",
       "      <td>10</td>\n",
       "      <td>1.0</td>\n",
       "      <td>0.01</td>\n",
       "      <td>20</td>\n",
       "      <td>0.0</td>\n",
       "      <td>0.0</td>\n",
       "      <td>0.0</td>\n",
       "    </tr>\n",
       "  </tbody>\n",
       "</table>\n",
       "</div>"
      ],
      "text/plain": [
       "<catchment: input/catchment.csv >\n",
       "              catchment_id  ecal  thc  roc2  roc4  cncor  sccor  tsnfall  \\\n",
       "station_id                                                                 \n",
       "BLANKENSTEIN             1   1.0  1.1     1     2    1.0    1.0      0.0   \n",
       "HOF                      2   1.2  1.2     1     2    1.0    1.0      0.0   \n",
       "\n",
       "              tmelt  smrate  gmrate  bff   abf  delay  revapc  rchrgc  revapmn  \n",
       "station_id                                                                      \n",
       "BLANKENSTEIN    0.0     0.3      10  1.0  0.01     50     0.0     0.0      0.0  \n",
       "HOF             0.0     0.5      10  1.0  0.01     20     0.0     0.0      0.0  "
      ]
     },
     "execution_count": 17,
     "metadata": {},
     "output_type": "execute_result"
    }
   ],
   "source": [
    "# edit examples, note how catchment.csv is updated\n",
    "project.catchment(HOF={'ecal': 1.2, 'delay': 20})\n",
    "project.catchment(roc2=1, roc4=2)\n",
    "edits = {'BLANKENSTEIN': {'smrate': 0.3, 'thc': 1.1},\n",
    "         'HOF': {'smrate': 0.5, 'thc': 1.2}}\n",
    "project.catchment(**edits)"
   ]
  },
  {
   "cell_type": "markdown",
   "metadata": {},
   "source": [
    "### Climate input\n",
    "\n",
    "TODO"
   ]
  },
  {
   "cell_type": "markdown",
   "metadata": {},
   "source": [
    "### GRASS interface\n",
    "\n",
    "Some input files are directly linked to GRASS data and therefore the corresponding project attributes contain additional features. This includes `hydrotope`, `subbasin`, `subbasin_routing`, and `catchment`."
   ]
  },
  {
   "cell_type": "markdown",
   "metadata": {},
   "source": [
    "First, certain GRASS settings need to be defined. In a _swimpy_ project this is typically realised in `<project>/swimpy/settings.py` and includes the following variables:\n",
    "\n",
    "* `grass_db` Path to GRASS project database;\n",
    "* `grass_location` Name of GRASS location, i.e. directory inside `grass_db`;\n",
    "* `grass_mapset` Name of Mapset inside GRASS location;\n",
    "* `grassbin` Optional: name of GRASS binary, default is `grass`;\n",
    "* `grass_overwrite` Optional, `bool`: existing maps are overwritten when executing GRASS commands from within _swimpy_.\n",
    "\n",
    "Note that this is required by the [modelmanager](https://github.com/mwort/modelmanager) `grass` plugin that is used internally."
   ]
  },
  {
   "cell_type": "markdown",
   "metadata": {},
   "source": [
    "All of the input files with GRASS interface can be updated from GRASS data using the `update()` method. Internally this executes the GRASS modules `m.swim.*` that are responsible for the spatial preprocessing of SWIM."
   ]
  },
  {
   "cell_type": "markdown",
   "metadata": {},
   "source": [
    "For instance, the following command runs `m.swim.hydrotopes` and updates input file `hydrotope.csv`:"
   ]
  },
  {
   "cell_type": "code",
   "execution_count": 18,
   "metadata": {},
   "outputs": [],
   "source": [
    "project.hydrotope.update(verbose=False)"
   ]
  },
  {
   "cell_type": "markdown",
   "metadata": {},
   "source": [
    "Parameters to the `m.swim.*` modules have to be given in the `swimpy/settings.py` as a Python dictionary named `grass_setup`. For the Blankenstein tutorial it looks like this:\n",
    "\n",
    "```python\n",
    "grass_setup = dict(subbasin_id = \"subbasins\", subbasins = \"subbasins\",\n",
    "                   elevation=\"elevation@PERMANENT\",\n",
    "                   stations=\"stations@PERMANENT\",\n",
    "                   upthresh=50, lothresh=1.6, streamthresh=200,\n",
    "                   minmainstreams=50, contours=200,\n",
    "                   predefined=\"reservoirs@PERMANENT\",\n",
    "                   landuse_id=\"landuse@PERMANENT\",\n",
    "                   soil_id=\"soil@PERMANENT\")\n",
    "```\n",
    "\n",
    "If you want to run `update()` with different parameter values or with additional optional parameters, e.g. for testing, you can specify them directly, e.g. `project.hydrotope.update(contours=100)`."
   ]
  },
  {
   "cell_type": "markdown",
   "metadata": {},
   "source": [
    "Note that `project.subbasin.update()` runs the whole `m.swim.*` preprocessing chain and updates all involved input files (`hydrotope.csv`, `subbasin.csv`, `subbasin_routing.csv`, and `catchment.csv`). If you only want to run `m.swim.subbasins` you can do so via `project.subbasin.create()`."
   ]
  },
  {
   "cell_type": "markdown",
   "metadata": {},
   "source": [
    "**WARNING**: Do not apply GRASS functions from Python in a mapset where a GRASS session is already running! This will produce an error."
   ]
  },
  {
   "cell_type": "markdown",
   "metadata": {},
   "source": [
    "## Output files"
   ]
  },
  {
   "cell_type": "markdown",
   "metadata": {},
   "source": [
    "An overview of output files can be given with attribute `output_files`:"
   ]
  },
  {
   "cell_type": "code",
   "execution_count": 19,
   "metadata": {},
   "outputs": [
    {
     "data": {
      "text/plain": [
       "<output_files: input/output.nml>\n",
       "Files with variables in directory 'output':\n",
       "dict {\n",
       "subbasin_label_daily_selected_stations_discharge: [discharge]\n",
       "subbasin_daily_river_discharge: [discharge, river_runoff]\n",
       "hydrotope_monthly_gis: [etp, eta, groundwater_recharge, precipitation, surface_runoff]\n",
       "hydrotope_annual_gis: [etp, eta, groundwater_recharge, precipitation, surface_runoff, crop_yield, glacier_weq]\n",
       "catchment_daily_bad_prn: [snowfall_weq, precipitation, tmean, surface_runoff, subsurface_runoff, percolation, groundwater_recharge, soil_water_index, snow_depth_weq, glacier_weq]\n",
       "hydrotope_label_daily_crop_out: [vegetation_water_stress, vegetation_temperature_stress, heat_unit_fraction, biomass_total, leaf_area_index, root_depth]\n",
       "hydrotope_label_annual_cropyld: [crop_yield]\n",
       "hydrotope_label_daily_htp_prn: [precipitation, surface_runoff, subsurface_runoff, percolation, etp, transpiration, soil_evaporation, eta, soil_water_index, leaf_area_index, biomass_total, root_depth, vegetation_water_stress, heat_unit_fraction, soil_water_content]\n",
       "}"
      ]
     },
     "execution_count": 19,
     "metadata": {},
     "output_type": "execute_result"
    }
   ],
   "source": [
    "project.output_files"
   ]
  },
  {
   "cell_type": "markdown",
   "metadata": {},
   "source": [
    "This is, by default, connected to the Fortran Namelist `input/output.nml` where the different output files are defined by `name`, `space`, `time`, and a list of `variables`. Herein, `name` can be freely chosen, `space` may be one of `hydrotope_label`, `hydrotope`, `subbasin_label`, `subbasin`, or `catchment` and `time` one of `daily`, `monthly`, or `annual`. The `variables` can be chosen as implemented in SWIM. For more details, see the SWIM manual. By default, a SWIM run stores output files as `output/<space>_<time>_<name>.csv` with columns `time`, `<space>` (e.g. hydrotope IDs), and the defined variables."
   ]
  },
  {
   "cell_type": "markdown",
   "metadata": {},
   "source": [
    "Generic output parameters, such as output directory, etc., are defined in `project.config_parameters('output_parameters')`, see defaults:"
   ]
  },
  {
   "cell_type": "code",
   "execution_count": 20,
   "metadata": {},
   "outputs": [
    {
     "data": {
      "text/plain": [
       "Namelist([('nns', 30),\n",
       "          ('nsb', 30),\n",
       "          ('nvrch', 18),\n",
       "          ('nvsub', 30),\n",
       "          ('output_dir', 'output'),\n",
       "          ('output_write_interval', 'M'),\n",
       "          ('output_float_format', 'f12.4'),\n",
       "          ('output_space_index_format', 'i6'),\n",
       "          ('output_default_format', 'csv'),\n",
       "          ('master_logfile', 'swim.log'),\n",
       "          ('log_stderr_level', 'warning'),\n",
       "          ('log_stdout_level', 'info'),\n",
       "          ('log_file_level', 'info')])"
      ]
     },
     "execution_count": 20,
     "metadata": {},
     "output_type": "execute_result"
    }
   ],
   "source": [
    "project.config_parameters.defaults['output_parameters']"
   ]
  },
  {
   "cell_type": "markdown",
   "metadata": {},
   "source": [
    "New output files can be defined directly in `input/output.nml` or via _swimpy_ (which immediately updates `input/output.nml`):"
   ]
  },
  {
   "cell_type": "code",
   "execution_count": 21,
   "metadata": {},
   "outputs": [],
   "source": [
    "# space: hydrotope, time: monthly, name: testevap,\n",
    "# variables: etp, eta\n",
    "project.output_files(hydrotope_monthly_testevap=['etp', 'eta'])"
   ]
  },
  {
   "cell_type": "markdown",
   "metadata": {},
   "source": [
    "Data from output files can be accessed as project attribute:"
   ]
  },
  {
   "cell_type": "code",
   "execution_count": 22,
   "metadata": {},
   "outputs": [
    {
     "data": {
      "text/html": [
       "<div>\n",
       "<style scoped>\n",
       "    .dataframe tbody tr th:only-of-type {\n",
       "        vertical-align: middle;\n",
       "    }\n",
       "\n",
       "    .dataframe tbody tr th {\n",
       "        vertical-align: top;\n",
       "    }\n",
       "\n",
       "    .dataframe thead tr th {\n",
       "        text-align: left;\n",
       "    }\n",
       "\n",
       "    .dataframe thead tr:last-of-type th {\n",
       "        text-align: right;\n",
       "    }\n",
       "</style>\n",
       "<table border=\"1\" class=\"dataframe\">\n",
       "  <thead>\n",
       "    <tr>\n",
       "      <th>variable</th>\n",
       "      <th colspan=\"10\" halign=\"left\">crop_yield</th>\n",
       "      <th>...</th>\n",
       "      <th colspan=\"10\" halign=\"left\">surface_runoff</th>\n",
       "    </tr>\n",
       "    <tr>\n",
       "      <th>hydrotope</th>\n",
       "      <th>1</th>\n",
       "      <th>2</th>\n",
       "      <th>3</th>\n",
       "      <th>4</th>\n",
       "      <th>5</th>\n",
       "      <th>6</th>\n",
       "      <th>7</th>\n",
       "      <th>8</th>\n",
       "      <th>9</th>\n",
       "      <th>10</th>\n",
       "      <th>...</th>\n",
       "      <th>173</th>\n",
       "      <th>174</th>\n",
       "      <th>175</th>\n",
       "      <th>176</th>\n",
       "      <th>177</th>\n",
       "      <th>178</th>\n",
       "      <th>179</th>\n",
       "      <th>180</th>\n",
       "      <th>181</th>\n",
       "      <th>182</th>\n",
       "    </tr>\n",
       "    <tr>\n",
       "      <th>time</th>\n",
       "      <th></th>\n",
       "      <th></th>\n",
       "      <th></th>\n",
       "      <th></th>\n",
       "      <th></th>\n",
       "      <th></th>\n",
       "      <th></th>\n",
       "      <th></th>\n",
       "      <th></th>\n",
       "      <th></th>\n",
       "      <th></th>\n",
       "      <th></th>\n",
       "      <th></th>\n",
       "      <th></th>\n",
       "      <th></th>\n",
       "      <th></th>\n",
       "      <th></th>\n",
       "      <th></th>\n",
       "      <th></th>\n",
       "      <th></th>\n",
       "      <th></th>\n",
       "    </tr>\n",
       "  </thead>\n",
       "  <tbody>\n",
       "    <tr>\n",
       "      <th>1991</th>\n",
       "      <td>0.0</td>\n",
       "      <td>0.0</td>\n",
       "      <td>0.0</td>\n",
       "      <td>0.0</td>\n",
       "      <td>0.0</td>\n",
       "      <td>0.0</td>\n",
       "      <td>0.0</td>\n",
       "      <td>17212.2324</td>\n",
       "      <td>19070.6367</td>\n",
       "      <td>17870.6953</td>\n",
       "      <td>...</td>\n",
       "      <td>0.0</td>\n",
       "      <td>0.0</td>\n",
       "      <td>0.0</td>\n",
       "      <td>0.0</td>\n",
       "      <td>0.0</td>\n",
       "      <td>0.0</td>\n",
       "      <td>13596.5225</td>\n",
       "      <td>0.0</td>\n",
       "      <td>0.0</td>\n",
       "      <td>13596.5225</td>\n",
       "    </tr>\n",
       "    <tr>\n",
       "      <th>1992</th>\n",
       "      <td>0.0</td>\n",
       "      <td>0.0</td>\n",
       "      <td>0.0</td>\n",
       "      <td>0.0</td>\n",
       "      <td>0.0</td>\n",
       "      <td>0.0</td>\n",
       "      <td>0.0</td>\n",
       "      <td>24460.3848</td>\n",
       "      <td>25620.9336</td>\n",
       "      <td>24620.2266</td>\n",
       "      <td>...</td>\n",
       "      <td>0.0</td>\n",
       "      <td>0.0</td>\n",
       "      <td>0.0</td>\n",
       "      <td>0.0</td>\n",
       "      <td>0.0</td>\n",
       "      <td>0.0</td>\n",
       "      <td>15540.0762</td>\n",
       "      <td>0.0</td>\n",
       "      <td>0.0</td>\n",
       "      <td>15540.0762</td>\n",
       "    </tr>\n",
       "    <tr>\n",
       "      <th>1993</th>\n",
       "      <td>0.0</td>\n",
       "      <td>0.0</td>\n",
       "      <td>0.0</td>\n",
       "      <td>0.0</td>\n",
       "      <td>0.0</td>\n",
       "      <td>0.0</td>\n",
       "      <td>0.0</td>\n",
       "      <td>22603.8867</td>\n",
       "      <td>22661.7090</td>\n",
       "      <td>22611.9570</td>\n",
       "      <td>...</td>\n",
       "      <td>0.0</td>\n",
       "      <td>0.0</td>\n",
       "      <td>0.0</td>\n",
       "      <td>0.0</td>\n",
       "      <td>0.0</td>\n",
       "      <td>0.0</td>\n",
       "      <td>14608.4375</td>\n",
       "      <td>0.0</td>\n",
       "      <td>0.0</td>\n",
       "      <td>14608.4375</td>\n",
       "    </tr>\n",
       "    <tr>\n",
       "      <th>1994</th>\n",
       "      <td>0.0</td>\n",
       "      <td>0.0</td>\n",
       "      <td>0.0</td>\n",
       "      <td>0.0</td>\n",
       "      <td>0.0</td>\n",
       "      <td>0.0</td>\n",
       "      <td>0.0</td>\n",
       "      <td>21975.0820</td>\n",
       "      <td>23983.8184</td>\n",
       "      <td>22624.8770</td>\n",
       "      <td>...</td>\n",
       "      <td>0.0</td>\n",
       "      <td>0.0</td>\n",
       "      <td>0.0</td>\n",
       "      <td>0.0</td>\n",
       "      <td>0.0</td>\n",
       "      <td>0.0</td>\n",
       "      <td>16330.0938</td>\n",
       "      <td>0.0</td>\n",
       "      <td>0.0</td>\n",
       "      <td>16330.0938</td>\n",
       "    </tr>\n",
       "    <tr>\n",
       "      <th>1995</th>\n",
       "      <td>0.0</td>\n",
       "      <td>0.0</td>\n",
       "      <td>0.0</td>\n",
       "      <td>0.0</td>\n",
       "      <td>0.0</td>\n",
       "      <td>0.0</td>\n",
       "      <td>0.0</td>\n",
       "      <td>21861.9512</td>\n",
       "      <td>21964.5332</td>\n",
       "      <td>21872.5938</td>\n",
       "      <td>...</td>\n",
       "      <td>0.0</td>\n",
       "      <td>0.0</td>\n",
       "      <td>0.0</td>\n",
       "      <td>0.0</td>\n",
       "      <td>0.0</td>\n",
       "      <td>0.0</td>\n",
       "      <td>15165.6904</td>\n",
       "      <td>0.0</td>\n",
       "      <td>0.0</td>\n",
       "      <td>15165.6904</td>\n",
       "    </tr>\n",
       "    <tr>\n",
       "      <th>1996</th>\n",
       "      <td>0.0</td>\n",
       "      <td>0.0</td>\n",
       "      <td>0.0</td>\n",
       "      <td>0.0</td>\n",
       "      <td>0.0</td>\n",
       "      <td>0.0</td>\n",
       "      <td>0.0</td>\n",
       "      <td>18816.7988</td>\n",
       "      <td>18816.8535</td>\n",
       "      <td>18816.8027</td>\n",
       "      <td>...</td>\n",
       "      <td>0.0</td>\n",
       "      <td>0.0</td>\n",
       "      <td>0.0</td>\n",
       "      <td>0.0</td>\n",
       "      <td>0.0</td>\n",
       "      <td>0.0</td>\n",
       "      <td>12823.5654</td>\n",
       "      <td>0.0</td>\n",
       "      <td>0.0</td>\n",
       "      <td>12823.5654</td>\n",
       "    </tr>\n",
       "    <tr>\n",
       "      <th>1997</th>\n",
       "      <td>0.0</td>\n",
       "      <td>0.0</td>\n",
       "      <td>0.0</td>\n",
       "      <td>0.0</td>\n",
       "      <td>0.0</td>\n",
       "      <td>0.0</td>\n",
       "      <td>0.0</td>\n",
       "      <td>22561.8008</td>\n",
       "      <td>22561.8125</td>\n",
       "      <td>22561.8008</td>\n",
       "      <td>...</td>\n",
       "      <td>0.0</td>\n",
       "      <td>0.0</td>\n",
       "      <td>0.0</td>\n",
       "      <td>0.0</td>\n",
       "      <td>0.0</td>\n",
       "      <td>0.0</td>\n",
       "      <td>14806.8408</td>\n",
       "      <td>0.0</td>\n",
       "      <td>0.0</td>\n",
       "      <td>14806.8408</td>\n",
       "    </tr>\n",
       "    <tr>\n",
       "      <th>1998</th>\n",
       "      <td>0.0</td>\n",
       "      <td>0.0</td>\n",
       "      <td>0.0</td>\n",
       "      <td>0.0</td>\n",
       "      <td>0.0</td>\n",
       "      <td>0.0</td>\n",
       "      <td>0.0</td>\n",
       "      <td>22799.5391</td>\n",
       "      <td>22799.5859</td>\n",
       "      <td>22799.5391</td>\n",
       "      <td>...</td>\n",
       "      <td>0.0</td>\n",
       "      <td>0.0</td>\n",
       "      <td>0.0</td>\n",
       "      <td>0.0</td>\n",
       "      <td>0.0</td>\n",
       "      <td>0.0</td>\n",
       "      <td>15160.4570</td>\n",
       "      <td>0.0</td>\n",
       "      <td>0.0</td>\n",
       "      <td>15160.4570</td>\n",
       "    </tr>\n",
       "    <tr>\n",
       "      <th>1999</th>\n",
       "      <td>0.0</td>\n",
       "      <td>0.0</td>\n",
       "      <td>0.0</td>\n",
       "      <td>0.0</td>\n",
       "      <td>0.0</td>\n",
       "      <td>0.0</td>\n",
       "      <td>0.0</td>\n",
       "      <td>23100.4199</td>\n",
       "      <td>23136.3262</td>\n",
       "      <td>23102.9297</td>\n",
       "      <td>...</td>\n",
       "      <td>0.0</td>\n",
       "      <td>0.0</td>\n",
       "      <td>0.0</td>\n",
       "      <td>0.0</td>\n",
       "      <td>0.0</td>\n",
       "      <td>0.0</td>\n",
       "      <td>15690.5752</td>\n",
       "      <td>0.0</td>\n",
       "      <td>0.0</td>\n",
       "      <td>15690.5752</td>\n",
       "    </tr>\n",
       "    <tr>\n",
       "      <th>2000</th>\n",
       "      <td>0.0</td>\n",
       "      <td>0.0</td>\n",
       "      <td>0.0</td>\n",
       "      <td>0.0</td>\n",
       "      <td>0.0</td>\n",
       "      <td>0.0</td>\n",
       "      <td>0.0</td>\n",
       "      <td>23239.3340</td>\n",
       "      <td>23239.8203</td>\n",
       "      <td>23239.6602</td>\n",
       "      <td>...</td>\n",
       "      <td>0.0</td>\n",
       "      <td>0.0</td>\n",
       "      <td>0.0</td>\n",
       "      <td>0.0</td>\n",
       "      <td>0.0</td>\n",
       "      <td>0.0</td>\n",
       "      <td>16536.8750</td>\n",
       "      <td>0.0</td>\n",
       "      <td>0.0</td>\n",
       "      <td>16536.8750</td>\n",
       "    </tr>\n",
       "  </tbody>\n",
       "</table>\n",
       "<p>10 rows × 1274 columns</p>\n",
       "</div>"
      ],
      "text/plain": [
       "variable  crop_yield                                                        \\\n",
       "hydrotope        1    2    3    4    5    6    7           8           9     \n",
       "time                                                                         \n",
       "1991             0.0  0.0  0.0  0.0  0.0  0.0  0.0  17212.2324  19070.6367   \n",
       "1992             0.0  0.0  0.0  0.0  0.0  0.0  0.0  24460.3848  25620.9336   \n",
       "1993             0.0  0.0  0.0  0.0  0.0  0.0  0.0  22603.8867  22661.7090   \n",
       "1994             0.0  0.0  0.0  0.0  0.0  0.0  0.0  21975.0820  23983.8184   \n",
       "1995             0.0  0.0  0.0  0.0  0.0  0.0  0.0  21861.9512  21964.5332   \n",
       "1996             0.0  0.0  0.0  0.0  0.0  0.0  0.0  18816.7988  18816.8535   \n",
       "1997             0.0  0.0  0.0  0.0  0.0  0.0  0.0  22561.8008  22561.8125   \n",
       "1998             0.0  0.0  0.0  0.0  0.0  0.0  0.0  22799.5391  22799.5859   \n",
       "1999             0.0  0.0  0.0  0.0  0.0  0.0  0.0  23100.4199  23136.3262   \n",
       "2000             0.0  0.0  0.0  0.0  0.0  0.0  0.0  23239.3340  23239.8203   \n",
       "\n",
       "variable               ... surface_runoff                           \\\n",
       "hydrotope         10   ...            173  174  175  176  177  178   \n",
       "time                   ...                                           \n",
       "1991       17870.6953  ...            0.0  0.0  0.0  0.0  0.0  0.0   \n",
       "1992       24620.2266  ...            0.0  0.0  0.0  0.0  0.0  0.0   \n",
       "1993       22611.9570  ...            0.0  0.0  0.0  0.0  0.0  0.0   \n",
       "1994       22624.8770  ...            0.0  0.0  0.0  0.0  0.0  0.0   \n",
       "1995       21872.5938  ...            0.0  0.0  0.0  0.0  0.0  0.0   \n",
       "1996       18816.8027  ...            0.0  0.0  0.0  0.0  0.0  0.0   \n",
       "1997       22561.8008  ...            0.0  0.0  0.0  0.0  0.0  0.0   \n",
       "1998       22799.5391  ...            0.0  0.0  0.0  0.0  0.0  0.0   \n",
       "1999       23102.9297  ...            0.0  0.0  0.0  0.0  0.0  0.0   \n",
       "2000       23239.6602  ...            0.0  0.0  0.0  0.0  0.0  0.0   \n",
       "\n",
       "variable                                     \n",
       "hydrotope         179  180  181         182  \n",
       "time                                         \n",
       "1991       13596.5225  0.0  0.0  13596.5225  \n",
       "1992       15540.0762  0.0  0.0  15540.0762  \n",
       "1993       14608.4375  0.0  0.0  14608.4375  \n",
       "1994       16330.0938  0.0  0.0  16330.0938  \n",
       "1995       15165.6904  0.0  0.0  15165.6904  \n",
       "1996       12823.5654  0.0  0.0  12823.5654  \n",
       "1997       14806.8408  0.0  0.0  14806.8408  \n",
       "1998       15160.4570  0.0  0.0  15160.4570  \n",
       "1999       15690.5752  0.0  0.0  15690.5752  \n",
       "2000       16536.8750  0.0  0.0  16536.8750  \n",
       "\n",
       "[10 rows x 1274 columns]"
      ]
     },
     "execution_count": 22,
     "metadata": {},
     "output_type": "execute_result"
    }
   ],
   "source": [
    "# Data of output/hydrotope_annual_gis.csv\n",
    "project.hydrotope_annual_gis"
   ]
  },
  {
   "cell_type": "markdown",
   "metadata": {},
   "source": [
    "The data is represented as `pd.DataFrame` with associated indexing methods, e.g.:"
   ]
  },
  {
   "cell_type": "code",
   "execution_count": 23,
   "metadata": {},
   "outputs": [
    {
     "data": {
      "text/plain": [
       "subbasin\n",
       "1     0.0224\n",
       "2     0.0157\n",
       "3     0.0133\n",
       "4     4.2791\n",
       "5     0.0157\n",
       "6     0.0151\n",
       "7     0.0000\n",
       "8     0.0166\n",
       "9     0.0000\n",
       "10    0.0854\n",
       "11    0.0867\n",
       "Name: 2000-12-27, dtype: float64"
      ]
     },
     "execution_count": 23,
     "metadata": {},
     "output_type": "execute_result"
    }
   ],
   "source": [
    "project.subbasin_daily_river_discharge.loc['2000-12-27']['river_runoff']"
   ]
  },
  {
   "cell_type": "markdown",
   "metadata": {},
   "source": [
    "TODO: plot method"
   ]
  },
  {
   "cell_type": "markdown",
   "metadata": {},
   "source": [
    "Output data can also be exported to GRASS via `to_grass()` method. This creates individual raster files for selected timesteps and variables. Depending on the output file this can be realised on the catchment, subbasin, or hydrotope level as follows:  "
   ]
  },
  {
   "cell_type": "code",
   "execution_count": 24,
   "metadata": {},
   "outputs": [
    {
     "name": "stdout",
     "output_type": "stream",
     "text": [
      "Created raster swim_hydrotope_output_1995_surface_runoff\n"
     ]
    },
    {
     "name": "stderr",
     "output_type": "stream",
     "text": [
      "Lösche raster <swim_hydrotope_output_1995_surface_runoff__int>\n"
     ]
    },
    {
     "name": "stdout",
     "output_type": "stream",
     "text": [
      "Created raster swim_hydrotope_output_1996_surface_runoff\n"
     ]
    },
    {
     "name": "stderr",
     "output_type": "stream",
     "text": [
      "Lösche raster <swim_hydrotope_output_1996_surface_runoff__int>\n"
     ]
    },
    {
     "name": "stdout",
     "output_type": "stream",
     "text": [
      "Created raster swim_hydrotope_output_1995_crop_yield\n"
     ]
    },
    {
     "name": "stderr",
     "output_type": "stream",
     "text": [
      "Lösche raster <swim_hydrotope_output_1995_crop_yield__int>\n"
     ]
    },
    {
     "name": "stdout",
     "output_type": "stream",
     "text": [
      "Created raster swim_hydrotope_output_1996_crop_yield\n"
     ]
    },
    {
     "name": "stderr",
     "output_type": "stream",
     "text": [
      "Lösche raster <swim_hydrotope_output_1996_crop_yield__int>\n",
      "Default TGIS driver / database set to:\n",
      "driver: sqlite\n",
      "database: $GISDBASE/$LOCATION_NAME/$MAPSET/tgis/sqlite.db\n",
      "WARNUNG: Temporal database connection defined as:\n",
      "         /home/tobias/apps/swimpy_redesign/tests/grassdb/utm32n/swim/tgis/sqlite.db\n",
      "         But database file does not exist.\n",
      "Creating temporal database:\n",
      "/home/tobias/apps/swimpy_redesign/tests/grassdb/utm32n/swim/tgis/sqlite.db\n",
      "   0 100\n",
      "   0 100\n"
     ]
    },
    {
     "name": "stdout",
     "output_type": "stream",
     "text": [
      "Created space-time raster dataset swim_hydrotope_output_surface_runoff\n"
     ]
    },
    {
     "name": "stderr",
     "output_type": "stream",
     "text": [
      "   0 100\n",
      "   0 100\n"
     ]
    },
    {
     "name": "stdout",
     "output_type": "stream",
     "text": [
      "Created space-time raster dataset swim_hydrotope_output_crop_yield\n"
     ]
    }
   ],
   "source": [
    "# 4 raster files in GRASS at hydrotope level\n",
    "project.hydrotope_annual_gis.to_grass(\n",
    "    variable=['surface_runoff', 'crop_yield'],\n",
    "    timestep=['1995', '1996'],\n",
    "    prefix='swim_hydrotope_output')"
   ]
  },
  {
   "cell_type": "markdown",
   "metadata": {},
   "source": [
    "## Run SWIM and store results"
   ]
  },
  {
   "cell_type": "markdown",
   "metadata": {},
   "source": [
    "To run SWIM with the current setup simply do:"
   ]
  },
  {
   "cell_type": "code",
   "execution_count": 1,
   "metadata": {},
   "outputs": [
    {
     "ename": "NameError",
     "evalue": "name 'project' is not defined",
     "output_type": "error",
     "traceback": [
      "\u001b[0;31m---------------------------------------------------------------------------\u001b[0m",
      "\u001b[0;31mNameError\u001b[0m                                 Traceback (most recent call last)",
      "\u001b[1;32m/home/tobias/apps/swimpy_redesign/docs/tutorial.ipynb Zelle 60\u001b[0m in \u001b[0;36m<cell line: 1>\u001b[0;34m()\u001b[0m\n\u001b[0;32m----> <a href='vscode-notebook-cell:/home/tobias/apps/swimpy_redesign/docs/tutorial.ipynb#Y113sZmlsZQ%3D%3D?line=0'>1</a>\u001b[0m run \u001b[39m=\u001b[39m project\u001b[39m.\u001b[39mrun(save \u001b[39m=\u001b[39m \u001b[39mTrue\u001b[39;00m, tags \u001b[39m=\u001b[39m \u001b[39m\"\u001b[39m\u001b[39mtest01\u001b[39m\u001b[39m\"\u001b[39m, notes \u001b[39m=\u001b[39m \u001b[39m\"\u001b[39m\u001b[39mA first test run\u001b[39m\u001b[39m\"\u001b[39m,\n\u001b[1;32m      <a href='vscode-notebook-cell:/home/tobias/apps/swimpy_redesign/docs/tutorial.ipynb#Y113sZmlsZQ%3D%3D?line=1'>2</a>\u001b[0m                   files \u001b[39m=\u001b[39m [\u001b[39m'\u001b[39m\u001b[39msubbasin_label_daily_selected_stations_discharge\u001b[39m\u001b[39m'\u001b[39m])\n",
      "\u001b[0;31mNameError\u001b[0m: name 'project' is not defined"
     ]
    }
   ],
   "source": [
    "run = project.run(save = True, tags = \"test01\", notes = \"A first test run\",\n",
    "                  files = ['subbasin_label_daily_selected_stations_discharge'])"
   ]
  },
  {
   "cell_type": "markdown",
   "metadata": {},
   "source": [
    "This runs SWIM and, as `save = True` (the default), stores information about the run together with the specified `tags` and `notes` (optional) in the browser database inside the `swimpy` directory. This can be useful to keep track of subsequent model runs and compare results or parameters. In this example we also archived output file `subbasin_label_daily_selected_stations_discharge.csv` inside the `swimpy` directory."
   ]
  },
  {
   "cell_type": "markdown",
   "metadata": {},
   "source": [
    "Some run statistics is accessible via the `run` object, e.g.:"
   ]
  },
  {
   "cell_type": "code",
   "execution_count": null,
   "metadata": {},
   "outputs": [],
   "source": [
    "run.notes"
   ]
  },
  {
   "cell_type": "code",
   "execution_count": null,
   "metadata": {},
   "outputs": [],
   "source": [
    "run.run_time"
   ]
  },
  {
   "cell_type": "markdown",
   "metadata": {},
   "source": [
    "As well as saved output files (i.e. only those given in `run(files=[...])`!):"
   ]
  },
  {
   "cell_type": "code",
   "execution_count": null,
   "metadata": {},
   "outputs": [],
   "source": [
    "run.subbasin_label_daily_selected_stations_discharge"
   ]
  },
  {
   "cell_type": "markdown",
   "metadata": {},
   "source": [
    "Previous saved runs can be derived, for instance, via:\n",
    "\n",
    "```python\n",
    "run = project.browser.runs.last()\n",
    "run = project.browser.runs.first()\n",
    "run = project.browser.runs.get(id=2) # saved run number 2\n",
    "```"
   ]
  },
  {
   "cell_type": "markdown",
   "metadata": {},
   "source": [
    "For more information on the `run()` method see also `save_run()` which is called inside `run()` and to which arguments can be passed."
   ]
  },
  {
   "cell_type": "markdown",
   "metadata": {},
   "source": [
    "If you want to run SWIM on a cluster as a job (so far it works with slurm as on the PIK cluster), adjust the `cluster_slurmargs` dictionary in `settings.py` as needed and run the model with `project.run(cluster='job_name')`."
   ]
  },
  {
   "cell_type": "markdown",
   "metadata": {},
   "source": [
    "More flexibility is offered via the `cluster` argument of `project.run()` or the `project.cluster` attribute. To prepare a slum job there are the following possibilities:"
   ]
  },
  {
   "cell_type": "code",
   "execution_count": null,
   "metadata": {},
   "outputs": [],
   "source": [
    "project.cluster('testjob', 'run', dryrun=True, somearg=123)\n",
    "project.run(cluster=dict(jobname='runtestjob', dryrun=True))\n",
    "project.cluster.submit_job('submit_job_test',\n",
    "                           'import swimpy; swimpy.Project().run()',\n",
    "                           workdir='project/', dryrun=True)"
   ]
  },
  {
   "cell_type": "markdown",
   "metadata": {},
   "source": [
    "This creates Python jobscripts `testjob.py` and `runtestjob.py` in `swimpy/cluster/` and `submit_job_test.py` in the project directory. Have a look at the files to understand how the command works. Note that `dryrun=False` (default!) would submit the job right away. Besides, `project.cluster()` internally calls `project.cluster.submit_job()` with some preprocessing."
   ]
  },
  {
   "cell_type": "markdown",
   "metadata": {},
   "source": [
    "It is also possible to conduct multiple SWIM runs in parallel:"
   ]
  },
  {
   "cell_type": "code",
   "execution_count": null,
   "metadata": {},
   "outputs": [],
   "source": [
    "# apply SWIM with different values for parameter smrate\n",
    "args = [dict(smrate=i) for i in [0.1, 0.3, 0.6]]\n",
    "runs = project.cluster.run_parallel(\n",
    "            clones=3, args=args, preprocess='catchment',\n",
    "            prefix='test', parallelism='mp')"
   ]
  },
  {
   "cell_type": "markdown",
   "metadata": {},
   "source": [
    "Observe how SWIM runs three times on your machine on different CPU cores (e.g. via Shell command `ps -A -o pid,psr,pcpu,%mem,cmd | grep swim`). To create 3 jobs on the cluster use `parallelism='jobs'`.\n",
    "\n",
    "Note that `args` (i.e. the value of `smrate`) has to be defined relative to `preprocess`, i.e. in this case `project.catchment`. To change a parameter in a different input file try, for instance, `project.cluster.run_parallel(args=[{'rzmaxup': 5.0}], preprocess='config_parameters')`."
   ]
  },
  {
   "cell_type": "markdown",
   "metadata": {},
   "source": [
    "## Working with the command-line interface"
   ]
  },
  {
   "cell_type": "markdown",
   "metadata": {},
   "source": [
    "Instead of using _swimpy_ in Python it is also possible to use its functionalities via the command line. All `project` functions are available as _swimpy_ arguments including help. However, note that this only works inside an initialised _swimpy_ project directory!"
   ]
  },
  {
   "cell_type": "code",
   "execution_count": null,
   "metadata": {
    "vscode": {
     "languageId": "shellscript"
    }
   },
   "outputs": [],
   "source": [
    "cd path/to/swimproject\n",
    "swimpy setup # initialise\n",
    "swimpy -h    # all available functions"
   ]
  },
  {
   "cell_type": "markdown",
   "metadata": {},
   "source": [
    "TODO ..."
   ]
  },
  {
   "cell_type": "markdown",
   "metadata": {},
   "source": [
    "### Check changes in output\n",
    "\n",
    "Imagine you changed certain parameters or even the source code of SWIM and you wonder if and how this might influence your output. One quick check is the `output_sums` test:"
   ]
  },
  {
   "cell_type": "code",
   "execution_count": null,
   "metadata": {
    "vscode": {
     "languageId": "shellscript"
    }
   },
   "outputs": [],
   "source": [
    "# define current output as benchmark\n",
    "swimpy test output_sums -t create\n",
    "# run swim again after changes\n",
    "./swim <config>.nml\n",
    "# compare new output with benchmark\n",
    "swimpy test output_sums -t compare"
   ]
  }
 ],
 "metadata": {
  "kernelspec": {
   "display_name": "Python 3.9.10 64-bit ('swimpy_redesign')",
   "language": "python",
   "name": "python3"
  },
  "language_info": {
   "codemirror_mode": {
    "name": "ipython",
    "version": 3
   },
   "file_extension": ".py",
   "mimetype": "text/x-python",
   "name": "python",
   "nbconvert_exporter": "python",
   "pygments_lexer": "ipython3",
   "version": "3.9.10"
  },
  "orig_nbformat": 4,
  "vscode": {
   "interpreter": {
    "hash": "b3eb4c1bbbd214aba22a660ba240de48654e2334fb85808a59233b6e10100062"
   }
  }
 },
 "nbformat": 4,
 "nbformat_minor": 2
}
